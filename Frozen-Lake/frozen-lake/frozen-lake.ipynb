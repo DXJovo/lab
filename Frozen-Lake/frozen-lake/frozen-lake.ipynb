{
 "cells": [
  {
   "cell_type": "markdown",
   "id": "5607fd9f",
   "metadata": {},
   "source": [
    "# Frozen-Lake强化学习代码实现(Q-Learning)"
   ]
  },
  {
   "cell_type": "markdown",
   "id": "e57dc859",
   "metadata": {},
   "source": [
    "### 导入必要的包"
   ]
  },
  {
   "cell_type": "code",
   "execution_count": 27,
   "id": "9a0fb454",
   "metadata": {},
   "outputs": [],
   "source": [
    "%matplotlib inline\n",
    "\n",
    "import gymnasium as gym\n",
    "from gymnasium.wrappers import RecordVideo\n",
    "import matplotlib.pyplot as plt\n",
    "import itertools\n",
    "import matplotlib.style\n",
    "import csv\n",
    "import numpy as np\n",
    "import sys\n",
    "import os\n",
    "\n",
    "from collections import defaultdict\n",
    "from gymnasium.envs.toy_text.frozen_lake import generate_random_map\n",
    "\n",
    "matplotlib.style.use('ggplot')"
   ]
  },
  {
   "cell_type": "markdown",
   "id": "e70e5362",
   "metadata": {},
   "source": [
    "### 调整参数和配置"
   ]
  },
  {
   "cell_type": "code",
   "execution_count": 28,
   "id": "1d37cbf3",
   "metadata": {},
   "outputs": [],
   "source": [
    "# 各个时期的训练参数\n",
    "train_para = [\n",
    "    {'epsilon':0.8,  'num_episodes':1000, 'discount_factor':0.99, 'alpha':0.5, 'success_num':0 ,'Q':None},\n",
    "    {'epsilon':0.5,  'num_episodes':1000, 'discount_factor':0.99, 'alpha':0.5, 'success_num':0 ,'Q':None},\n",
    "    {'epsilon':0.2,  'num_episodes':1000, 'discount_factor':0.99, 'alpha':0.5, 'success_num':0 ,'Q':None},\n",
    "    {'epsilon':0.01, 'num_episodes':1000, 'discount_factor':0.99, 'alpha':0.5, 'success_num':0 ,'Q':None}\n",
    "]\n",
    "\n",
    "# 地图大小\n",
    "MAP_SIZE = 8\n",
    "\n",
    "# 是否使用随机地图\n",
    "RANDOM_MAP = True\n",
    "\n",
    "# 是否保存正确率较低的地图到 自定义地图 的 位置\n",
    "SAVE_ERROR_MAP = True\n",
    "\n",
    "# 自定义地图 的 位置\n",
    "CUSTOM_MAP_ROUTE = \"./errormap/output.csv\"\n",
    "\n",
    "# 每进行几轮记录一次视频\n",
    "INTERVAL=100\n",
    "\n",
    "# 保存视频的位置\n",
    "VIDEO_FOLDER='./save_videos1'\n",
    "\n",
    "\n",
    "goal_state = MAP_SIZE**2 - 1\n"
   ]
  },
  {
   "cell_type": "markdown",
   "id": "246a2e23",
   "metadata": {},
   "source": [
    "### 生成一个地图"
   ]
  },
  {
   "cell_type": "code",
   "execution_count": 29,
   "id": "1bf2670c",
   "metadata": {},
   "outputs": [],
   "source": [
    "def generate_map():\n",
    "    custom_map = []\n",
    "    if RANDOM_MAP:\n",
    "        custom_map = generate_random_map(size=MAP_SIZE)\n",
    "    else:\n",
    "        with open('./errormap/output.csv', 'r') as f:\n",
    "            reader = csv.reader(f)\n",
    "            for row in reader:\n",
    "                custom_map.append(row)\n",
    "    return custom_map"
   ]
  },
  {
   "cell_type": "markdown",
   "id": "bbef2a29",
   "metadata": {},
   "source": [
    "### 生成一个环境"
   ]
  },
  {
   "cell_type": "code",
   "execution_count": 30,
   "id": "ef1246d4",
   "metadata": {},
   "outputs": [],
   "source": [
    "def generate_env():\n",
    "    custom_map = generate_map()\n",
    "    env = gym.make('FrozenLake-v1',desc=custom_map,render_mode=\"rgb_array\",is_slippery=False)\n",
    "    trigger = lambda t: t % INTERVAL == 0\n",
    "    env = RecordVideo(env, video_folder=VIDEO_FOLDER, episode_trigger=trigger, disable_logger=True)\n",
    "\n",
    "    return env,custom_map"
   ]
  },
  {
   "cell_type": "markdown",
   "id": "2d16b380",
   "metadata": {},
   "source": [
    "### $\\epsilon$ - 贪心策略\n",
    "\n",
    "$$\n",
    "\\pi(a|s)=\n",
    "\\begin{cases}\n",
    "    1 - \\epsilon + \\frac{\\epsilon}{|A|} & \\text{if} \\space a = argmax_{a'}Q(S,a') \\\\\n",
    "    \\frac{\\epsilon}{|A|} & \\text{else}\n",
    "\\end{cases}\n",
    "$$"
   ]
  },
  {
   "cell_type": "code",
   "execution_count": 31,
   "id": "b469a6cf",
   "metadata": {},
   "outputs": [],
   "source": [
    "def make_epsilon_greedy_policy(Q, epsilon ,nA):\n",
    "\n",
    "    def policy_fn(observation):\n",
    "        A = np.ones(nA,dtype=float) * epsilon / nA\n",
    "        best_action = np.argmax(Q[observation])\n",
    "        A[best_action] += (1.0 - epsilon)\n",
    "        return A\n",
    "    return policy_fn"
   ]
  },
  {
   "cell_type": "markdown",
   "id": "4a7dc1c2",
   "metadata": {},
   "source": [
    "### 计算两点间的曼哈顿距离"
   ]
  },
  {
   "cell_type": "markdown",
   "id": "b7888854",
   "metadata": {},
   "source": [
    "$$\n",
    "\\text{Distance} = \\sqrt{(x_1 - x_2)^2 + (y_1 - y_2)^2}\n",
    "$$"
   ]
  },
  {
   "cell_type": "code",
   "execution_count": 32,
   "id": "d4e35d49",
   "metadata": {},
   "outputs": [],
   "source": [
    "def calculate_distance(x_1,y_1,x_2,y_2):\n",
    "    # distance = ((x_1-x_2)**2 + (y_1-y_2)**2)**0.5\n",
    "    distance = abs(x_1 - x_2) + abs(y_1 - y_2)\n",
    "    return distance"
   ]
  },
  {
   "cell_type": "markdown",
   "id": "1ae88089",
   "metadata": {},
   "source": [
    "### **高斯奖励函数（Gaussian Reward Function）**\n",
    "\n",
    "#### **数学公式**\n",
    "$$\n",
    "r(s, a, s') = \\beta \\cdot e^{-\\frac{d(s', s_g)^2}{2\\sigma^2}}\n",
    "$$\n",
    "\n",
    "#### **参数说明**\n",
    "| 符号         | 含义                          | 常用值示例  |\n",
    "|--------------|-------------------------------|------------|\n",
    "| $\\beta$      | 奖励峰值（最大值）            | 10         |\n",
    "| $\\sigma$     | 控制奖励衰减速度的标准差      | 2          |\n",
    "| $d(s', s_g)$ | 新状态 $s'$ 到目标状态 $s_g$ 的距离 | 欧氏/曼哈顿距离 |"
   ]
  },
  {
   "cell_type": "code",
   "execution_count": 33,
   "id": "1724b93d",
   "metadata": {},
   "outputs": [],
   "source": [
    "def signed_reward(distance, beta=10, sigma=2, threshold=5):\n",
    "    \"\"\"\n",
    "    距离小于threshold时为正奖励，大于时为负奖励\n",
    "    \"\"\"\n",
    "    if distance <= threshold:\n",
    "        return beta * np.exp(-(distance**2)/(2*sigma**2))#高斯奖励\n",
    "    else:\n",
    "        return -1 * (distance - threshold)  # 线性惩罚\n"
   ]
  },
  {
   "cell_type": "markdown",
   "id": "9403c74a",
   "metadata": {},
   "source": [
    "### 奖励函数设计\n",
    "#### 正奖励\n",
    "- 当agent的state恰好等于目标点的state时\n",
    "- 当agent距离目标点距离减小\n",
    "#### 负奖励\n",
    "- 当agent掉入洞中或超时\n",
    "- 当agent不动时\n",
    "- 当agent距离目标点距离增大"
   ]
  },
  {
   "cell_type": "code",
   "execution_count": 34,
   "id": "d2be908c",
   "metadata": {},
   "outputs": [],
   "source": [
    "def getReward(state, next_state,state_number,random_state, success_num, terminated, truncated):\n",
    "\n",
    "    if random_state:\n",
    "        if state_number[next_state] < 2 and not terminated and not truncated:\n",
    "            reward = 7\n",
    "        else:\n",
    "            reward = -5\n",
    "    else:\n",
    "\n",
    "        reward = 0\n",
    "    #terminated=True：智能体找到出口（成功）或撞墙（失败）。\n",
    "    #truncated=True：智能体超过 1000 步仍未找到出口（强制终止）。\n",
    "        # 计算state距离终点的距离->方便计算欧式距离\n",
    "        state_x = state // MAP_SIZE\n",
    "        state_y = state % MAP_SIZE\n",
    "\n",
    "        state_dist = calculate_distance(state_x, state_y, MAP_SIZE - 1, MAP_SIZE - 1)\n",
    "\n",
    "        # 计算next_state距离终点的距离\n",
    "        next_state_x = next_state // MAP_SIZE\n",
    "        next_state_y = next_state % MAP_SIZE\n",
    "    #Python 中的整数除法（向下取整），例如 7 // 3 = 2\n",
    "        next_state_dist = calculate_distance(next_state_x, next_state_y, MAP_SIZE - 1, MAP_SIZE - 1)\n",
    "        go_dist=next_state_dist- state_dist\n",
    "        # 恰好达到目标\n",
    "        if next_state == goal_state:\n",
    "            # reward = 1.6\n",
    "            success_num = success_num + 1\n",
    "            reward = signed_reward(go_dist, beta=10, sigma=2, threshold=5)\n",
    "\n",
    "        # 调入洞中或超时\n",
    "        elif terminated or truncated:\n",
    "            reward = -10#reward过小时角色容易掉洞\n",
    "\n",
    "        # 原地不动\n",
    "        elif state == next_state:\n",
    "            # reward = -0.9\n",
    "            reward = signed_reward(next_state_dist, beta=10, sigma=2, threshold=5)\n",
    "\n",
    "        # 远离目标点\n",
    "        elif next_state_dist > state_dist:\n",
    "            # reward = -0.7\n",
    "            reward = signed_reward(next_state_dist, beta=10, sigma=2, threshold=5)\n",
    "\n",
    "        # 靠近目标点\n",
    "        elif next_state_dist < state_dist:\n",
    "            # reward = state_dist - next_state_dist\n",
    "            reward = signed_reward(next_state_dist, beta=10, sigma=2, threshold=5)\n",
    "\n",
    "    return reward, success_num"
   ]
  },
  {
   "cell_type": "markdown",
   "id": "69162ce9",
   "metadata": {},
   "source": [
    "### Q-Learning 算法"
   ]
  },
  {
   "cell_type": "markdown",
   "id": "fc6e3166",
   "metadata": {},
   "source": [
    "$$\n",
    "Q^{new}(S_t,A_t) = (1 - \\alpha) \\cdot Q(S_t,A_t) + \\alpha \\cdot \\big(R_{t+1} + \\gamma \\cdot max_a Q(S_{t+1},a) \\big)\n",
    "$$"
   ]
  },
  {
   "cell_type": "code",
   "execution_count": 35,
   "id": "0395e793",
   "metadata": {},
   "outputs": [],
   "source": [
    "def q_learning(Q,state,action,next_state,reward,discount_factor,alpha):\n",
    "    best_next_action = np.argmax(Q[next_state])\n",
    "    td_target = reward + discount_factor * best_next_action\n",
    "    td_delta = td_target - Q[state][action]\n",
    "    Q[state][action] += alpha * td_delta\n",
    "    return Q"
   ]
  },
  {
   "cell_type": "markdown",
   "id": "00538f75",
   "metadata": {},
   "source": []
  },
  {
   "cell_type": "markdown",
   "id": "a1418186",
   "metadata": {},
   "source": [
    "### 进度条"
   ]
  },
  {
   "cell_type": "code",
   "execution_count": 36,
   "id": "0be2bc84",
   "metadata": {},
   "outputs": [],
   "source": [
    "def simple_progress_bar(total, progress):  \n",
    "    \"\"\"  \n",
    "    显示一个简单的进度条  \n",
    "  \n",
    "    :param total: 进度条的总长度（或总任务量）  \n",
    "    :param progress: 当前进度（已完成的任务量）  \n",
    "    \"\"\"  \n",
    "    bar_length = 50  # 进度条的长度，这里设置为50个字符  \n",
    "    filled_length = int(round(bar_length * progress / float(total)))  # 计算已完成的进度条长度  \n",
    "    # 注意这里使用了float(total)确保除法结果是浮点数，然后通过round和int转换得到整数长度  \n",
    "    percents = round(100.0 * progress / float(total), 1)  # 计算并格式化当前进度的百分比，保留一位小数  \n",
    "    bar = '=' * filled_length + '-' * (bar_length - filled_length)  # 根据已完成和未完成的长度生成进度条字符串  \n",
    "    # 使用'='表示已完成的进度，'-'表示未完成的进度  \n",
    "    sys.stdout.write(f'\\r进度：[{bar}] {percents}%')  # 将进度条信息写回标准输出，\\r使光标回到行首  \n",
    "    # 这样新的进度信息就会覆盖旧的进度信息，实现进度条的更新效果  \n",
    "    sys.stdout.flush()  # 刷新标准输出缓冲区，确保进度条信息立即显示 "
   ]
  },
  {
   "cell_type": "markdown",
   "id": "188e55af",
   "metadata": {},
   "source": [
    "### 训练过程"
   ]
  },
  {
   "cell_type": "code",
   "execution_count": 37,
   "id": "aee71fe6",
   "metadata": {},
   "outputs": [],
   "source": [
    "def train(env, num_episodes,final,discount_factor=0.99, alpha=0.3, epsilon=0.2, Q=None):\n",
    "    success_num=0\n",
    "\n",
    "    # Q-Table 不存在则初始化 Q-Table\n",
    "    if Q==None:\n",
    "        Q = defaultdict(lambda: np.ones(env.action_space.n))\n",
    "        \n",
    "    policy = make_epsilon_greedy_policy(Q,epsilon,env.action_space.n)\n",
    "\n",
    "    # 记录每个回合走了多少步\n",
    "    plot_episode_length = np.zeros(num_episodes)\n",
    "    # 记录每个回合的总奖励\n",
    "    plot_episode_rewards = np.zeros(num_episodes)\n",
    "\n",
    "    # 执行 num_episodes 个回合\n",
    "    for i_episodes in range(num_episodes):\n",
    "        \n",
    "        # 显示进度条\n",
    "        simple_progress_bar(num_episodes,i_episodes)\n",
    "        \n",
    "        # 创建一个记录每个state走过的次数\n",
    "        state_number = {x : 0 for x in range(MAP_SIZE*MAP_SIZE)}\n",
    "\n",
    "        # 每个回合重置环境\n",
    "        state,_ = env.reset()\n",
    "\n",
    "        for t in itertools.count():\n",
    "            random_state = False\n",
    "            if not final:\n",
    "                state_number[state] += 1\n",
    "\n",
    "            if state_number[state] <= 2:\n",
    "                # 依据epsilon-贪心算法获得state处每个动作的概率\n",
    "                action_probs = policy(state)\n",
    "                # 依据概率随机选择一个动作\n",
    "                action = np.random.choice(np.arange(len(action_probs)),p=action_probs)\n",
    "                \n",
    "                random_state = False\n",
    "                \n",
    "            else:\n",
    "                action = env.action_space.sample()\n",
    "                random_state = True\n",
    "\n",
    "            next_state,reward,terminated,truncated,info = env.step(action)\n",
    "\n",
    "            reward,success_num = getReward(state,next_state,state_number,random_state,success_num,terminated,truncated)\n",
    "            \n",
    "            # 更新每个回合的步数和奖励\n",
    "            plot_episode_length[i_episodes] = t\n",
    "            plot_episode_rewards[i_episodes] += reward\n",
    "\n",
    "            # 将所得到的数据更新 Q-Table\n",
    "            Q = q_learning(Q,state,action,next_state,reward,discount_factor,alpha)\n",
    "\n",
    "            # 遇到异常情况则退出 进入下一回合\n",
    "            if terminated or truncated:\n",
    "                break\n",
    "\n",
    "            state = next_state\n",
    "    \n",
    "    return Q,plot_episode_rewards,plot_episode_length,success_num"
   ]
  },
  {
   "cell_type": "markdown",
   "id": "aa9356d6",
   "metadata": {},
   "source": [
    "### 使用Matplotlib绘图"
   ]
  },
  {
   "cell_type": "code",
   "execution_count": 38,
   "id": "26455b74",
   "metadata": {},
   "outputs": [],
   "source": [
    "def plotting(data,xlable,ylabel):\n",
    "    plt.figure(figsize=(10,5))\n",
    "    plt.xlabel(xlable)\n",
    "    plt.ylabel(ylabel)\n",
    "    plt.plot(data)\n",
    "    plt.show()"
   ]
  },
  {
   "cell_type": "markdown",
   "id": "aafc44e4",
   "metadata": {},
   "source": [
    "### 调用函数进行训练"
   ]
  },
  {
   "cell_type": "code",
   "execution_count": 39,
   "id": "71e9bd5b",
   "metadata": {},
   "outputs": [
    {
     "name": "stdout",
     "output_type": "stream",
     "text": [
      "\n",
      "1/4\n",
      "进度：[--------------------------------------------------] 0.0%"
     ]
    },
    {
     "name": "stderr",
     "output_type": "stream",
     "text": [
      "/home/dxj/.conda/envs/gymlab/lib/python3.10/site-packages/gymnasium/wrappers/rendering.py:283: UserWarning: \u001b[33mWARN: Overwriting existing videos at /home/dxj/Documents/workspace/frozen-lake/save_videos1 folder (try specifying a different `video_folder` for the `RecordVideo` wrapper if this is not desired)\u001b[0m\n",
      "  logger.warn(\n"
     ]
    },
    {
     "name": "stdout",
     "output_type": "stream",
     "text": [
      "进度：[==================================================] 99.9%\n",
      "2/4\n",
      "进度：[==================================================] 99.9%\n",
      "3/4\n",
      "进度：[==================================================] 99.9%\n",
      "4/4\n",
      "进度：[==================================================] 99.9%\n",
      "Accurate Rate:0.765\n"
     ]
    },
    {
     "data": {
      "image/png": "[encoded data removed]",
      "text/plain": [
       "<Figure size 1000x500 with 1 Axes>"
      ]
     },
     "metadata": {},
     "output_type": "display_data"
    },
    {
     "data": {
      "image/png": "[encoded data removed]",
      "text/plain": [
       "<Figure size 1000x500 with 1 Axes>"
      ]
     },
     "metadata": {},
     "output_type": "display_data"
    }
   ],
   "source": [
    "if __name__ == \"__main__\":\n",
    "\n",
    "    env,custom_map = generate_env()\n",
    "\n",
    "    Q = None\n",
    "\n",
    "    train_result = [\n",
    "        {'Q':None , 'plot_episode_rewards': None, 'plot_episode_length': None,'success_num': 0},\n",
    "        {'Q':None , 'plot_episode_rewards': None, 'plot_episode_length': None,'success_num': 0},\n",
    "        {'Q':None , 'plot_episode_rewards': None, 'plot_episode_length': None,'success_num': 0},\n",
    "        {'Q':None , 'plot_episode_rewards': None, 'plot_episode_length': None,'success_num': 0}\n",
    "    ]\n",
    "\n",
    "    for i in range(len(train_para)) :\n",
    "        final = False\n",
    "        if i > 0:\n",
    "            train_result[i]['Q'] = train_result[i-1]['Q']\n",
    "        \n",
    "        if i == len(train_para)-1:\n",
    "            final = True\n",
    "\n",
    "        train_result[i]['plot_episode_rewards'] = np.zeros(train_para[i]['num_episodes'])\n",
    "        train_result[i]['plot_episode_length'] = np.zeros(train_para[i]['num_episodes'])\n",
    "\n",
    "        sys.stdout.flush()\n",
    "        print(\"\\r\\n{}/{}\".format(i+1,len(train_para)))\n",
    "        train_result[i]['Q'], train_result[i]['plot_episode_rewards'], train_result[i]['plot_episode_length'], train_result[i]['success_num'] = train(\n",
    "            env,\n",
    "            num_episodes=train_para[i]['num_episodes'],\n",
    "            final=final,\n",
    "            discount_factor=train_para[i]['discount_factor'],\n",
    "            alpha=train_para[i]['alpha'],\n",
    "            epsilon=train_para[i]['epsilon'],\n",
    "            Q=train_result[i]['Q']\n",
    "        )\n",
    "\n",
    "    rewards = []\n",
    "    length = []\n",
    "\n",
    "    for train in train_result:\n",
    "        rewards = np.concatenate((rewards,train['plot_episode_rewards']))\n",
    "        length = np.concatenate((length,train['plot_episode_length']))\n",
    "\n",
    "    accurate_rate = train_result[-1]['success_num'] / train_para[-1]['num_episodes']\n",
    "\n",
    "    if accurate_rate < 0.7:\n",
    "        os.makedirs(os.path.dirname(CUSTOM_MAP_ROUTE), exist_ok=True)\n",
    "        with open(CUSTOM_MAP_ROUTE, 'w', newline='') as f:\n",
    "            writer = csv.writer(f)\n",
    "            writer.writerows(custom_map)\n",
    "\n",
    "    print(\"\\r\\nAccurate Rate:{}\".format(accurate_rate))\n",
    "\n",
    "    plotting(length,\"Episodes\",\"Length\")\n",
    "    plotting(rewards,\"Episodes\",\"Rewards\")\n",
    "\n",
    "    env.close()"
   ]
  }
 ],
 "metadata": {
  "kernelspec": {
   "display_name": "Python 3",
   "language": "python",
   "name": "python3"
  },
  "language_info": {
   "codemirror_mode": {
    "name": "ipython",
    "version": 3
   },
   "file_extension": ".py",
   "mimetype": "text/x-python",
   "name": "python",
   "nbconvert_exporter": "python",
   "pygments_lexer": "ipython3",
   "version": "3.10.18"
  }
 },
 "nbformat": 4,
 "nbformat_minor": 5
}
